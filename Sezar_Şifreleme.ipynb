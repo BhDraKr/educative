{
  "cells": [
    {
      "cell_type": "markdown",
      "metadata": {
        "id": "view-in-github",
        "colab_type": "text"
      },
      "source": [
        "<a href=\"https://colab.research.google.com/github/BhDraKr/educative/blob/main/Sezar_%C5%9Eifreleme.ipynb\" target=\"_parent\"><img src=\"https://colab.research.google.com/assets/colab-badge.svg\" alt=\"Open In Colab\"/></a>"
      ]
    },
    {
      "cell_type": "markdown",
      "source": [
        "Encrypt"
      ],
      "metadata": {
        "id": "fWcOMWF5R8G4"
      }
    },
    {
      "cell_type": "code",
      "source": [
        "# Parametremizin adını \"metin\" olarak atadık.\n",
        "def crypt(word):\n",
        "    cryptedword = \"\"                                    # Üreteceğimiz şifreli metin için bu parametreyi girdik.\n",
        "    for letter in word:                                 # Metindeki her bir harf için...\n",
        "        asciicode = ord(letter)                         # Önce \"Ascii kodunu\" öğrenelim.\n",
        "        asciicode = asciicode+3                         # Çıkan koda \"3\" ekleyip kaydıralım.\n",
        "        decrytp = chr(asciicode)                        # \"Kodu\" tekrar \"karaktere\" dönüştürelim.\n",
        "        cryptedword = cryptedword + decrytp             # Çıkan sonucu şifreli metine ekleyelim.\n",
        "    print(\"Şifreli metniniz : \" + cryptedword)          # Döngü bitince ekrana yazdıralım.\n",
        "\n",
        "\n",
        "xword = input(\"Lütfen bir metin girin : \")\n",
        "\n",
        "crypt(xword)                                        # Fonksiyonu çağır ve şifrele.\n"
      ],
      "metadata": {
        "id": "0_ixTW_2RLO5"
      },
      "execution_count": null,
      "outputs": []
    },
    {
      "cell_type": "markdown",
      "source": [
        "Decrypt"
      ],
      "metadata": {
        "id": "vLCuiGkuSDyJ"
      }
    },
    {
      "cell_type": "code",
      "source": [
        "# Parametremizin adını \"metin\" olarak atadık.\n",
        "def decrypt(word):\n",
        "    decrytp = \"\"                                    # Üreteceğimiz şifreli metin için bu parametreyi girdik.\n",
        "    for letter in word:                             # Metindeki her bir harf için...\n",
        "        asciicode = ord(letter)                     # Önce \"Ascii kodunu\" öğrenelim.\n",
        "        asciicode = asciicode-3                     # Çıkan koddan \"3\" çıkarıp kaydıralım.\n",
        "        cryptedword = chr(asciicode)                # \"Kodu\" tekrar \"karaktere\" dönüştürelim.\n",
        "        decrytp = decrytp + cryptedword             # Çıkan sonucu şifreli metine ekleyelim.\n",
        "    print(\"Şifresiz metniniz : \" + decrytp)         # Döngü bitince ekrana yazdıralım.\n",
        "\n",
        "\n",
        "xword = input(\"Lütfen şifrelenmiş bir metin girin : \")\n",
        "\n",
        "decrypt(xword)                                  # Fonksiyonu çağır ve şifreyi çöz.\n"
      ],
      "metadata": {
        "id": "WWxlc2lURCMJ"
      },
      "execution_count": null,
      "outputs": []
    },
    {
      "cell_type": "markdown",
      "source": [
        "Encrypt & Decrypt"
      ],
      "metadata": {
        "id": "KjC_kPEaSPYq"
      }
    },
    {
      "cell_type": "code",
      "source": [
        "# Parametremizin adını \"metin\" olarak atadık.\n",
        "def crypt(word):\n",
        "    cryptedword = \"\"                                    # Üreteceğimiz şifreli metin için bu parametreyi girdik.\n",
        "    for letter in word:                                 # Metindeki her bir harf için...\n",
        "        asciicode = ord(letter)                         # Önce \"Ascii kodunu\" öğrenelim.\n",
        "        asciicode = asciicode+3                         # Çıkan koda \"3\" ekleyip kaydıralım.\n",
        "        decrytp = chr(asciicode)                        # \"Kodu\" tekrar \"karaktere\" dönüştürelim.\n",
        "        cryptedword = cryptedword + decrytp             # Çıkan sonucu şifreli metine ekleyelim.\n",
        "    print(\"Şifreli metniniz : \" + cryptedword)          # Döngü bitince ekrana yazdıralım.\n",
        "\n",
        "\n",
        "xword = input(\"Lütfen bir metin girin : \")\n",
        "\n",
        "crypt(xword)                                        # Fonksiyonu çağır ve şifrele.\n",
        "\n",
        "# Parametremizin adını \"metin\" olarak atadık.\n",
        "def decrypt(word):\n",
        "    decrytp = \"\"                                    # Üreteceğimiz şifreli metin için bu parametreyi girdik.\n",
        "    for letter in word:                             # Metindeki her bir harf için...\n",
        "        asciicode = ord(letter)                     # Önce \"Ascii kodunu\" öğrenelim.\n",
        "        asciicode = asciicode-3                     # Çıkan koddan \"3\" çıkarıp kaydıralım.\n",
        "        cryptedword = chr(asciicode)                # \"Kodu\" tekrar \"karaktere\" dönüştürelim.\n",
        "        decrytp = decrytp + cryptedword             # Çıkan sonucu şifreli metine ekleyelim.\n",
        "    print(\"Şifresiz metniniz : \" + decrytp)         # Döngü bitince ekrana yazdıralım.\n",
        "\n",
        "\n",
        "xword = input(\"Lütfen şifrelenmiş bir metin girin : \")\n",
        "\n",
        "decrypt(xword)                                  # Fonksiyonu çağır ve şifreyi çöz.\n"
      ],
      "metadata": {
        "id": "7sVsTDOrQYCx"
      },
      "execution_count": null,
      "outputs": []
    }
  ],
  "metadata": {
    "colab": {
      "toc_visible": true,
      "provenance": [],
      "include_colab_link": true
    },
    "kernelspec": {
      "display_name": "Python 3",
      "name": "python3"
    }
  },
  "nbformat": 4,
  "nbformat_minor": 0
}